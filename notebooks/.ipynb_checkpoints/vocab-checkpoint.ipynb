{
 "cells": [
  {
   "cell_type": "code",
   "execution_count": 2,
   "metadata": {
    "collapsed": true
   },
   "outputs": [],
   "source": [
    "import json\n",
    "import string\n",
    "from six.moves import cPickle as pickle\n",
    "import numpy as np\n",
    "from scipy.misc import comb\n",
    "from math import log, exp, sqrt\n",
    "import matplotlib.pyplot as plt\n",
    "from matplotlib import rc\n",
    "rc('text', usetex=True)\n",
    "from PIL import Image\n",
    "import seaborn as sns\n",
    "# sns.set_context(\"paper\")\n",
    "# sns.set_context('talk')\n",
    "%matplotlib inline"
   ]
  },
  {
   "cell_type": "code",
   "execution_count": null,
   "metadata": {},
   "outputs": [],
   "source": [
    "#Load vocab\n",
    "vocab = []\n",
    "for line in open('../data/vocab.fr', 'r'):\n",
    "    vocab.append(line.strip())\n",
    "    \n",
    "infos = pickle.load(open('../data/fr_trg.pkl', 'rb'))\n",
    "itow = infos['itow']#itow[0] = \"<PAD>\"\n",
    "#itow[1] = \"_EOS\"\n",
    "#itow[2] = \"_BOS\"\n",
    "print('0, 1 & 2', itow[0], itow[1], itow[2])\n",
    "# itow[0] = 'EOS'\n",
    "print('Itow size:', len(itow))\n",
    "print('Vocab size:', len(vocab))"
   ]
  },
  {
   "cell_type": "code",
   "execution_count": null,
   "metadata": {},
   "outputs": [],
   "source": [
    "words = list(itow.values())\n",
    "for w in words:\n",
    "    if \".\" in w:\n",
    "        print(w)"
   ]
  },
  {
   "cell_type": "code",
   "execution_count": null,
   "metadata": {},
   "outputs": [],
   "source": [
    "#Load vocab\n",
    "vocab_en = []\n",
    "for line in open('../data/vocab.en', 'r'):\n",
    "    vocab_en.append(line.strip())\n",
    "infos_en = pickle.load(open('../data/en_src.pkl', 'rb'))\n",
    "itow_en = infos_en['itow']\n",
    "print('0, 1 & 2', itow_en[0], itow_en[1], itow_en[2])\n",
    "print('Itow size:', len(itow_en))\n",
    "print('Vocab size:', len(vocab_en))"
   ]
  },
  {
   "cell_type": "code",
   "execution_count": null,
   "metadata": {},
   "outputs": [],
   "source": [
    "for w in vocab:\n",
    "    if w not in list(itow.values()):\n",
    "        print('Missing', w)"
   ]
  },
  {
   "cell_type": "code",
   "execution_count": null,
   "metadata": {
    "collapsed": true
   },
   "outputs": [],
   "source": [
    "for w in vocab_en:\n",
    "    if w not in list(itow_en.values()):\n",
    "        print('Missing', w)"
   ]
  },
  {
   "cell_type": "code",
   "execution_count": null,
   "metadata": {},
   "outputs": [],
   "source": [
    "assert len(list(set(vocab).intersection(list(itow.values())))) - len(vocab) == 0\n",
    "assert len(list(set(vocab_en).intersection(list(itow_en.values())))) - len(vocab_en) == 0"
   ]
  },
  {
   "cell_type": "markdown",
   "metadata": {},
   "source": [
    "## Stats"
   ]
  },
  {
   "cell_type": "code",
   "execution_count": 3,
   "metadata": {},
   "outputs": [],
   "source": [
    "infos = pickle.load(open('../data/fr_trg.pkl', 'rb'))\n",
    "itow = infos['itow']\n",
    "stats = pickle.load(open('../data/vocab_fr_stats.pkl', 'rb'))\n",
    "vocab = stats['vocab']\n",
    "counts = stats['counts']\n",
    "lengths = stats['lengths']\n",
    "del stats, infos"
   ]
  },
  {
   "cell_type": "code",
   "execution_count": 4,
   "metadata": {
    "collapsed": true
   },
   "outputs": [],
   "source": [
    "cw = {}\n",
    "for (c, w) in counts:\n",
    "    cw[w] = c"
   ]
  },
  {
   "cell_type": "code",
   "execution_count": null,
   "metadata": {},
   "outputs": [],
   "source": [
    "sns.set()\n",
    "f, ax = plt.subplots(1, 1, figsize=(10, 4))\n",
    "nsents = sum(list(lengths.values()))\n",
    "plenghts = [l/nsents for k,l in lengths.items()]\n",
    "ax.bar(list(lengths), plenghts)\n",
    "ax.set_yticklabels(['{:.0f}\\%'.format(x*100) for x in ax.get_yticks()]) \n"
   ]
  },
  {
   "cell_type": "code",
   "execution_count": 5,
   "metadata": {
    "collapsed": true
   },
   "outputs": [],
   "source": [
    "MATCH = {v: k for k,v in itow.items()}"
   ]
  },
  {
   "cell_type": "code",
   "execution_count": 6,
   "metadata": {},
   "outputs": [
    {
     "name": "stdout",
     "output_type": "stream",
     "text": [
      "Missing word  tabLog\n"
     ]
    }
   ],
   "source": [
    "F = np.ones(len(itow))\n",
    "missing = []\n",
    "for ix, w in itow.items():\n",
    "#     print(\"ix\", ix, type(ix), \"w\", w)\n",
    "    if ix < 4:\n",
    "        continue\n",
    "    if w in cw:\n",
    "        F[ix] = cw[w]\n",
    "    else:\n",
    "        print('Missing word ', w)\n",
    "        missing.append(w)"
   ]
  },
  {
   "cell_type": "code",
   "execution_count": 7,
   "metadata": {},
   "outputs": [],
   "source": [
    "F = F.reshape(-1, 1)\n",
    "FF1 = F * (1/F).T\n",
    "FF2 = 1/F * F.T\n",
    "FF = np.minimum(FF1, FF2)\n",
    "del FF1, FF2\n",
    "pickle.dump(np.float32(FF), open('../data/idf_fr.pkl', 'wb'))"
   ]
  }
 ],
 "metadata": {
  "kernelspec": {
   "display_name": "Python 3",
   "language": "python",
   "name": "python3"
  },
  "language_info": {
   "codemirror_mode": {
    "name": "ipython",
    "version": 3
   },
   "file_extension": ".py",
   "mimetype": "text/x-python",
   "name": "python",
   "nbconvert_exporter": "python",
   "pygments_lexer": "ipython3",
   "version": "3.6.2"
  }
 },
 "nbformat": 4,
 "nbformat_minor": 2
}
